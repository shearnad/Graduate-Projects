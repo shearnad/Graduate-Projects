{
 "cells": [
  {
   "cell_type": "code",
   "execution_count": 1,
   "metadata": {},
   "outputs": [],
   "source": [
    "import pymongo\n",
    "\n",
    "client = pymongo.MongoClient(host= # info removed,  host is the hostname for the database\n",
    "                                port= # info removed,  port is the port number that mongo is running on\n",
    "                                username= # info removed,  username for the db\n",
    "                                password= # info removed,  # password for the db\n",
    "                                authSource= # info removed, since our user only exists for the #####, we need to specify this)\n",
    "\n",
    "# Setup collections and connections\n",
    "db = client.twitter\n",
    "stats_coll = db.twitter_statuses\n",
    "retweets_coll = db.twitter_retweets\n",
    "favs_coll = db.twitter_favorites\n",
    "lists_coll = db.twitter_lists_updated\n",
    "friends_coll = db.twitter_friends_updated"
   ]
  },
  {
   "cell_type": "markdown",
   "metadata": {},
   "source": [
    "## Task 1\n",
    "Write a function, ***get_user_stats_retweets_favs(user)***, that takes a user's **screen_name** and will determine:\n",
    " - The **number of statuses** they've made\n",
    "   - Using the **twitter_statuses** collection\n",
    " - Their **number of their tweets that have been retweeted**\n",
    "   - Using the **twitter_retweets** collection\n",
    "   - A retweet has a retweeted_status object detailing information about the original tweet\n",
    " - How many **tweets they've favorited**\n",
    "   - Using the **twitter_favorites** collection\n",
    "   - There is an attribute in **twitter_favorites** for \"favorited_by_screen_name\""
   ]
  },
  {
   "cell_type": "code",
   "execution_count": 2,
   "metadata": {},
   "outputs": [
    {
     "data": {
      "text/plain": [
       "(762, 419, 1182)"
      ]
     },
     "execution_count": 2,
     "metadata": {},
     "output_type": "execute_result"
    }
   ],
   "source": [
    "# Room for work\n",
    "def get_user_stats_retweets_favs(user):\n",
    "    \"\"\"Gets the number statuses, retweets, and favorites for a given user\n",
    "    Args:\n",
    "        user (string): the user's twitter screen name\n",
    "    Returns:\n",
    "        (int, int, int): a tuple containing the number of statuses, retweets, and favorites in that order\"\"\"\n",
    "    \n",
    "    #Gets the statuses that the user made from the twitter statuses collection and counts them\n",
    "    status = stats_coll.count_documents({'user.screen_name':user})\n",
    "    \n",
    "    #Gets the retweets that had the user as the original post from the twitter retweets collection and counts them\n",
    "    tweet = retweets_coll.count_documents({'retweeted_status.user.screen_name': user})\n",
    "    \n",
    "    #Gets the number of tweets that the user favorited from the twitter statuses collection and counts them\n",
    "    fav = favs_coll.count_documents({'favorited_by_screen_name':user})\n",
    "    \n",
    "    #Returns the number of statuses, retweets and favorites\n",
    "    return (status, tweet, fav)\n",
    "\n",
    "#Check to see that the function works\n",
    "get_user_stats_retweets_favs('elonmusk')\n"
   ]
  },
  {
   "cell_type": "markdown",
   "metadata": {},
   "source": [
    "## Task 2\n",
    "Write a function, ***get_all_users()***, that returns the **count of all users (int)** across the **twitter_statuses** and **twitter_favorites** collections. For this, I would recommend using the unique identifier (id) for users to avoid potential changes in their screen_names."
   ]
  },
  {
   "cell_type": "code",
   "execution_count": 3,
   "metadata": {},
   "outputs": [
    {
     "data": {
      "text/plain": [
       "62604"
      ]
     },
     "execution_count": 3,
     "metadata": {},
     "output_type": "execute_result"
    }
   ],
   "source": [
    "# Room for work\n",
    "#define a function\n",
    "def get_all_users():\n",
    "    \n",
    "    #query the collection to gather all documents\n",
    "    stats = stats_coll.find({},{'user.id': 1})\n",
    "    favs = favs_coll.find({},{'user.id':1})\n",
    "    \n",
    "    #create empty list to fill with information\n",
    "    userlist = []\n",
    "    \n",
    "    #iterate through collections to gather the user id in each document and add it to the empty list\n",
    "    for ix, doc in enumerate(stats):\n",
    "        user = doc['user']['id']\n",
    "        userlist.append(user)\n",
    "    for ix, doc in enumerate(favs):\n",
    "        user = doc['user']['id']\n",
    "        userlist.append(user)\n",
    "        \n",
    "    # return the count of users (only considers a user's id once) \n",
    "    return len(list(set(userlist)))\n",
    "\n",
    "#test function\n",
    "get_all_users()\n",
    "\n"
   ]
  },
  {
   "cell_type": "markdown",
   "metadata": {},
   "source": [
    "## Task 3\n",
    "For elonmusk, plot the distribution/histogram of his retweet counts using the **twitter_statuses** collection."
   ]
  },
  {
   "cell_type": "code",
   "execution_count": 55,
   "metadata": {},
   "outputs": [
    {
     "data": {
      "image/png": "[encoded data removed]",
      "text/plain": [
       "<Figure size 640x480 with 1 Axes>"
      ]
     },
     "metadata": {},
     "output_type": "display_data"
    }
   ],
   "source": [
    "# Room for work\n",
    "import matplotlib.pyplot as plt\n",
    "\n",
    "import numpy as np\n",
    "\n",
    "# Example for people unfamiliar with histograms\n",
    "#data = np.random.randint(0, 100, 300)\n",
    "#plt.hist(data)\n",
    "\n",
    "emstat = stats_coll.find({'user.screen_name':'elonmusk'})\n",
    "rtlist =[i.get('retweet_count',0) for i in emstat]\n",
    "plt.hist(rtlist)\n",
    "plt.show()"
   ]
  },
  {
   "cell_type": "markdown",
   "metadata": {},
   "source": [
    "## Task 4\n",
    "Do elon's tweets (**twitter_statuses** collection) that mention spacex, dogecoin, or tesla (e.g. match a regex for 'spacex') have a higher average retweet count than those that do not?\n",
    "\n",
    "Is that result statistically significant?\n",
    "\n",
    "*Note: In your response please provide the code used, the average for each category (spacex/dogecoin/tesla vs other), and how you determined statistical significance. If you are unfamiliar with the concept of statistical significance, please provide a simple explanation for your answer.*"
   ]
  },
  {
   "cell_type": "code",
   "execution_count": 53,
   "metadata": {},
   "outputs": [
    {
     "name": "stdout",
     "output_type": "stream",
     "text": [
      "302625753.0573448 503947874.19583136\n"
     ]
    },
    {
     "data": {
      "text/plain": [
       "Ttest_indResult(statistic=-5.596373433849433, pvalue=3.3869129637616335e-08)"
      ]
     },
     "execution_count": 53,
     "metadata": {},
     "output_type": "execute_result"
    }
   ],
   "source": [
    "#Room for work\n",
    "#import python's regex and stats package\n",
    "import re\n",
    "import scipy.stats as stats\n",
    "\n",
    "#query the statuses collection for statuses with mentions and without mentions\n",
    "m_tweets = stats_coll.find({'$and': [{'user.screen_name':'elonmusk'}, {'$or': [{'text': {'$regex': 'spacex', '$options': 'i'}}, {'text': {'$regex': 'dogecoin', '$options': 'i'}}, {'text': {'$regex': 'tesla', '$options': 'i'}}]}]},{'text':1, 'retweet_count':1})\n",
    "nm_tweets = stats_coll.find({'$and': [{'user.screen_name':'elonmusk'}, {'$nor': [{'text': {'$regex': 'spacex', '$options': 'i'}}, {'text': {'$regex': 'dogecoin', '$options': 'i'}}, {'text': {'$regex': 'tesla', '$options': 'i'}}]}]},{'text':1, 'retweet_count':1})\n",
    "\n",
    "\n",
    "#create a function to reduce code length (function gathers retweet counts)\n",
    "def gather_rt_counts(query):\n",
    "    \n",
    "    #create empty lists to fill with information gathered\n",
    "    rt_list = []\n",
    "    \n",
    "    #iterate over the documents in the cursor\n",
    "    for ix, doc in enumerate(query):\n",
    "        \n",
    "        #assign the values to a variable\n",
    "        rtc = doc['retweet_count']\n",
    "        \n",
    "        #add the text length to the length list\n",
    "        rt_list.append(rtc)\n",
    "        \n",
    "    #return the list of retweet values\n",
    "    return rt_list\n",
    "\n",
    "#gather retweet counts for both populations\n",
    "mention_list = gather_rt_counts(m_tweets)\n",
    "not_mention_list = gather_rt_counts(nm_tweets)\n",
    "\n",
    "#checks that the numbers are correct\n",
    "# print(len(mention_list)) #237 documents\n",
    "# print(len(not_mention_list)) #525 documents\n",
    "# print(stats_coll.count_documents({'user.screen_name':'elonmusk'})) #762 documents\n",
    "\n",
    "\n",
    "#print the variance of both groups\n",
    "print(np.var(mention_list), np.var(not_mention_list))\n",
    "\n",
    "# #perform student t-test (to test the significance of the difference in two population\n",
    "# means with variance set to not equal\n",
    "stats.ttest_ind(a=mention_list, b=not_mention_list, equal_var=False)\n",
    "\n"
   ]
  },
  {
   "cell_type": "markdown",
   "metadata": {},
   "source": [
    "## Task 5\n",
    "Calculate the correlation between the length of a tweet and the number of times it has been retweeted, using the **twitter_statuses** collection.\n",
    "\n",
    "*Note: For this, feel free to use a subsample of statuses for your analysis*"
   ]
  },
  {
   "cell_type": "code",
   "execution_count": 68,
   "metadata": {},
   "outputs": [
    {
     "name": "stdout",
     "output_type": "stream",
     "text": [
      "[[ 1.         -0.14589884]\n",
      " [-0.14589884  1.        ]]\n"
     ]
    }
   ],
   "source": [
    "#Room for work\n",
    "#query the statuses and subset the information \n",
    "docs = stats_coll.find({},{'text':1, 'retweet_count':1})\n",
    "\n",
    "#create empty lists to fill with information gathered\n",
    "length =[]\n",
    "count = []\n",
    "\n",
    "#iterate over the documents in the cursor\n",
    "for ix, doc in enumerate(docs):\n",
    "    \n",
    "    #assign the values to a variable\n",
    "    c = doc['retweet_count']\n",
    "    l = len(doc['text'])\n",
    "    \n",
    "    #add the text length to the length list\n",
    "    length.append(l)\n",
    "    \n",
    "    #add the retweet count to the count list\n",
    "    count.append(c)\n",
    "    \n",
    "    #only use the first 100 documents \n",
    "    if ix == 100:\n",
    "        break\n",
    "\n",
    "#calculate the correlation coefficient\n",
    "print(np.corrcoef(length,count))"
   ]
  }
 ],
 "metadata": {
  "kernelspec": {
   "display_name": "Python 3 (ipykernel)",
   "language": "python",
   "name": "python3"
  },
  "language_info": {
   "codemirror_mode": {
    "name": "ipython",
    "version": 3
   },
   "file_extension": ".py",
   "mimetype": "text/x-python",
   "name": "python",
   "nbconvert_exporter": "python",
   "pygments_lexer": "ipython3",
   "version": "3.8.16"
  }
 },
 "nbformat": 4,
 "nbformat_minor": 4
}
